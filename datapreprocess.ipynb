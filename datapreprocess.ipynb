{
  "nbformat": 4,
  "nbformat_minor": 0,
  "metadata": {
    "accelerator": "GPU",
    "colab": {
      "name": "datapreprocess.ipynb",
      "provenance": [],
      "collapsed_sections": []
    },
    "kernelspec": {
      "display_name": "Python 3",
      "name": "python3"
    },
    "language_info": {
      "name": "python"
    }
  },
  "cells": [
    {
      "cell_type": "markdown",
      "metadata": {
        "id": "3lPhgzUicgLR"
      },
      "source": [
        "#**Day 3**"
      ]
    },
    {
      "cell_type": "markdown",
      "metadata": {
        "id": "OT56fVHdI6bo"
      },
      "source": [
        "##Importing libraries and dataset"
      ]
    },
    {
      "cell_type": "code",
      "metadata": {
        "id": "y6v_2nJrhDcr"
      },
      "source": [
        "#importing libraries\n",
        "import numpy as np\n",
        "import pandas as pd\n",
        "import seaborn as sns\n",
        "import matplotlib.pyplot as plt\n",
        "from sklearn.impute import SimpleImputer\n",
        "from sklearn.preprocessing import MinMaxScaler"
      ],
      "execution_count": null,
      "outputs": []
    },
    {
      "cell_type": "code",
      "metadata": {
        "colab": {
          "base_uri": "https://localhost:8080/",
          "height": 414
        },
        "id": "K4idTgzPjJXF",
        "outputId": "2d516800-7da6-4b8f-f719-d955f56d40c2"
      },
      "source": [
        "#importing dataset\n",
        "df=pd.read_csv(\"/content/train - train (2).csv\")\n",
        "df"
      ],
      "execution_count": null,
      "outputs": [
        {
          "output_type": "execute_result",
          "data": {
            "text/html": [
              "<div>\n",
              "<style scoped>\n",
              "    .dataframe tbody tr th:only-of-type {\n",
              "        vertical-align: middle;\n",
              "    }\n",
              "\n",
              "    .dataframe tbody tr th {\n",
              "        vertical-align: top;\n",
              "    }\n",
              "\n",
              "    .dataframe thead th {\n",
              "        text-align: right;\n",
              "    }\n",
              "</style>\n",
              "<table border=\"1\" class=\"dataframe\">\n",
              "  <thead>\n",
              "    <tr style=\"text-align: right;\">\n",
              "      <th></th>\n",
              "      <th>Unnamed: 0</th>\n",
              "      <th>year</th>\n",
              "      <th>month</th>\n",
              "      <th>day</th>\n",
              "      <th>hour</th>\n",
              "      <th>PM2.5</th>\n",
              "      <th>temperature</th>\n",
              "      <th>pressure</th>\n",
              "      <th>rain</th>\n",
              "      <th>wind_direction</th>\n",
              "      <th>wind_speed</th>\n",
              "    </tr>\n",
              "  </thead>\n",
              "  <tbody>\n",
              "    <tr>\n",
              "      <th>0</th>\n",
              "      <td>0</td>\n",
              "      <td>2013</td>\n",
              "      <td>-37.0</td>\n",
              "      <td>1.0</td>\n",
              "      <td>0.0</td>\n",
              "      <td>4.0</td>\n",
              "      <td>-0.7</td>\n",
              "      <td>102-37</td>\n",
              "      <td>0.0</td>\n",
              "      <td>NNW</td>\n",
              "      <td>4.4</td>\n",
              "    </tr>\n",
              "    <tr>\n",
              "      <th>1</th>\n",
              "      <td>1</td>\n",
              "      <td>201-37</td>\n",
              "      <td>-37.0</td>\n",
              "      <td>1.0</td>\n",
              "      <td>1.0</td>\n",
              "      <td>8.0</td>\n",
              "      <td>-1.1</td>\n",
              "      <td>1023.2</td>\n",
              "      <td>0.0</td>\n",
              "      <td>N</td>\n",
              "      <td>NaN</td>\n",
              "    </tr>\n",
              "    <tr>\n",
              "      <th>2</th>\n",
              "      <td>2</td>\n",
              "      <td>2013</td>\n",
              "      <td>3.0</td>\n",
              "      <td>1.0</td>\n",
              "      <td>2.0</td>\n",
              "      <td>7.0</td>\n",
              "      <td>-1.1</td>\n",
              "      <td>1023.5</td>\n",
              "      <td>0.0</td>\n",
              "      <td>NNW</td>\n",
              "      <td>5.6</td>\n",
              "    </tr>\n",
              "    <tr>\n",
              "      <th>3</th>\n",
              "      <td>3</td>\n",
              "      <td>2013</td>\n",
              "      <td>3.0</td>\n",
              "      <td>1.0</td>\n",
              "      <td>3.0</td>\n",
              "      <td>6.0</td>\n",
              "      <td>-1.4</td>\n",
              "      <td>1024.5</td>\n",
              "      <td>0.0</td>\n",
              "      <td>NW</td>\n",
              "      <td>3.1</td>\n",
              "    </tr>\n",
              "    <tr>\n",
              "      <th>4</th>\n",
              "      <td>4</td>\n",
              "      <td>2013</td>\n",
              "      <td>3.0</td>\n",
              "      <td>1.0</td>\n",
              "      <td>4.0</td>\n",
              "      <td>3.0</td>\n",
              "      <td>-2.0</td>\n",
              "      <td>1025.2</td>\n",
              "      <td>0.0</td>\n",
              "      <td>N</td>\n",
              "      <td>2.0</td>\n",
              "    </tr>\n",
              "    <tr>\n",
              "      <th>...</th>\n",
              "      <td>...</td>\n",
              "      <td>...</td>\n",
              "      <td>...</td>\n",
              "      <td>...</td>\n",
              "      <td>...</td>\n",
              "      <td>...</td>\n",
              "      <td>...</td>\n",
              "      <td>...</td>\n",
              "      <td>...</td>\n",
              "      <td>...</td>\n",
              "      <td>...</td>\n",
              "    </tr>\n",
              "    <tr>\n",
              "      <th>31522</th>\n",
              "      <td>35022</td>\n",
              "      <td>2017</td>\n",
              "      <td>2.0</td>\n",
              "      <td>27.0</td>\n",
              "      <td>6.0</td>\n",
              "      <td>80.0</td>\n",
              "      <td>-0.3</td>\n",
              "      <td>1019.4</td>\n",
              "      <td>0.0</td>\n",
              "      <td>ENE</td>\n",
              "      <td>0.8</td>\n",
              "    </tr>\n",
              "    <tr>\n",
              "      <th>31523</th>\n",
              "      <td>35032</td>\n",
              "      <td>2017</td>\n",
              "      <td>2.0</td>\n",
              "      <td>27.0</td>\n",
              "      <td>16.0</td>\n",
              "      <td>75.0</td>\n",
              "      <td>15.9</td>\n",
              "      <td>1014</td>\n",
              "      <td>0.0</td>\n",
              "      <td>SW</td>\n",
              "      <td>2.9</td>\n",
              "    </tr>\n",
              "    <tr>\n",
              "      <th>31524</th>\n",
              "      <td>35035</td>\n",
              "      <td>2017</td>\n",
              "      <td>2.0</td>\n",
              "      <td>27.0</td>\n",
              "      <td>19.0</td>\n",
              "      <td>51.0</td>\n",
              "      <td>11.5</td>\n",
              "      <td>1014.1</td>\n",
              "      <td>0.0</td>\n",
              "      <td>SSW</td>\n",
              "      <td>1.0</td>\n",
              "    </tr>\n",
              "    <tr>\n",
              "      <th>31525</th>\n",
              "      <td>35042</td>\n",
              "      <td>2017</td>\n",
              "      <td>2.0</td>\n",
              "      <td>28.0</td>\n",
              "      <td>2.0</td>\n",
              "      <td>9.0</td>\n",
              "      <td>8.6</td>\n",
              "      <td>1016</td>\n",
              "      <td>0.0</td>\n",
              "      <td>NNE</td>\n",
              "      <td>0.9</td>\n",
              "    </tr>\n",
              "    <tr>\n",
              "      <th>31526</th>\n",
              "      <td>35054</td>\n",
              "      <td>2017</td>\n",
              "      <td>2.0</td>\n",
              "      <td>28.0</td>\n",
              "      <td>14.0</td>\n",
              "      <td>5.0</td>\n",
              "      <td>14.6</td>\n",
              "      <td>1013.3</td>\n",
              "      <td>0.0</td>\n",
              "      <td>N</td>\n",
              "      <td>3.6</td>\n",
              "    </tr>\n",
              "  </tbody>\n",
              "</table>\n",
              "<p>31527 rows × 11 columns</p>\n",
              "</div>"
            ],
            "text/plain": [
              "       Unnamed: 0    year  month  ...  rain  wind_direction  wind_speed\n",
              "0               0    2013  -37.0  ...   0.0             NNW         4.4\n",
              "1               1  201-37  -37.0  ...   0.0               N         NaN\n",
              "2               2    2013    3.0  ...   0.0             NNW         5.6\n",
              "3               3    2013    3.0  ...   0.0              NW         3.1\n",
              "4               4    2013    3.0  ...   0.0               N         2.0\n",
              "...           ...     ...    ...  ...   ...             ...         ...\n",
              "31522       35022    2017    2.0  ...   0.0             ENE         0.8\n",
              "31523       35032    2017    2.0  ...   0.0              SW         2.9\n",
              "31524       35035    2017    2.0  ...   0.0             SSW         1.0\n",
              "31525       35042    2017    2.0  ...   0.0             NNE         0.9\n",
              "31526       35054    2017    2.0  ...   0.0               N         3.6\n",
              "\n",
              "[31527 rows x 11 columns]"
            ]
          },
          "metadata": {},
          "execution_count": 32
        }
      ]
    },
    {
      "cell_type": "markdown",
      "metadata": {
        "id": "doJZ02_6EPsP"
      },
      "source": [
        "##Missing values\n",
        "Printing null values of each column with the help of isnull() function."
      ]
    },
    {
      "cell_type": "code",
      "metadata": {
        "colab": {
          "base_uri": "https://localhost:8080/"
        },
        "id": "e3SKnxTIMxrY",
        "outputId": "97c25f59-b8ca-4dcc-9580-2e68b0e7c144"
      },
      "source": [
        "#missing values\n",
        "print(df.isnull().sum())"
      ],
      "execution_count": null,
      "outputs": [
        {
          "output_type": "stream",
          "name": "stdout",
          "text": [
            "Unnamed: 0         0\n",
            "year              15\n",
            "month              6\n",
            "day               20\n",
            "hour               8\n",
            "PM2.5             14\n",
            "temperature       19\n",
            "pressure          27\n",
            "rain              12\n",
            "wind_direction    60\n",
            "wind_speed        25\n",
            "dtype: int64\n"
          ]
        }
      ]
    },
    {
      "cell_type": "markdown",
      "metadata": {
        "id": "WnneOvU0En0v"
      },
      "source": [
        "##Filling missing values\n",
        "Backfilling missing values because the data is already in sorted order makes this method more preferable to our dataframe in terms of correctness."
      ]
    },
    {
      "cell_type": "code",
      "metadata": {
        "colab": {
          "base_uri": "https://localhost:8080/",
          "height": 414
        },
        "id": "xtR3TJR-PZYk",
        "outputId": "c6ac99a4-d8f2-4fc4-f1ed-d134aa970493"
      },
      "source": [
        "#filling the missing values by backfill method\n",
        "df=df.fillna(method=\"bfill\")\n",
        "df"
      ],
      "execution_count": null,
      "outputs": [
        {
          "output_type": "execute_result",
          "data": {
            "text/html": [
              "<div>\n",
              "<style scoped>\n",
              "    .dataframe tbody tr th:only-of-type {\n",
              "        vertical-align: middle;\n",
              "    }\n",
              "\n",
              "    .dataframe tbody tr th {\n",
              "        vertical-align: top;\n",
              "    }\n",
              "\n",
              "    .dataframe thead th {\n",
              "        text-align: right;\n",
              "    }\n",
              "</style>\n",
              "<table border=\"1\" class=\"dataframe\">\n",
              "  <thead>\n",
              "    <tr style=\"text-align: right;\">\n",
              "      <th></th>\n",
              "      <th>Unnamed: 0</th>\n",
              "      <th>year</th>\n",
              "      <th>month</th>\n",
              "      <th>day</th>\n",
              "      <th>hour</th>\n",
              "      <th>PM2.5</th>\n",
              "      <th>temperature</th>\n",
              "      <th>pressure</th>\n",
              "      <th>rain</th>\n",
              "      <th>wind_direction</th>\n",
              "      <th>wind_speed</th>\n",
              "    </tr>\n",
              "  </thead>\n",
              "  <tbody>\n",
              "    <tr>\n",
              "      <th>0</th>\n",
              "      <td>0</td>\n",
              "      <td>2013</td>\n",
              "      <td>-37.0</td>\n",
              "      <td>1.0</td>\n",
              "      <td>0.0</td>\n",
              "      <td>4.0</td>\n",
              "      <td>-0.7</td>\n",
              "      <td>102-37</td>\n",
              "      <td>0.0</td>\n",
              "      <td>NNW</td>\n",
              "      <td>4.4</td>\n",
              "    </tr>\n",
              "    <tr>\n",
              "      <th>1</th>\n",
              "      <td>1</td>\n",
              "      <td>201-37</td>\n",
              "      <td>-37.0</td>\n",
              "      <td>1.0</td>\n",
              "      <td>1.0</td>\n",
              "      <td>8.0</td>\n",
              "      <td>-1.1</td>\n",
              "      <td>1023.2</td>\n",
              "      <td>0.0</td>\n",
              "      <td>N</td>\n",
              "      <td>5.6</td>\n",
              "    </tr>\n",
              "    <tr>\n",
              "      <th>2</th>\n",
              "      <td>2</td>\n",
              "      <td>2013</td>\n",
              "      <td>3.0</td>\n",
              "      <td>1.0</td>\n",
              "      <td>2.0</td>\n",
              "      <td>7.0</td>\n",
              "      <td>-1.1</td>\n",
              "      <td>1023.5</td>\n",
              "      <td>0.0</td>\n",
              "      <td>NNW</td>\n",
              "      <td>5.6</td>\n",
              "    </tr>\n",
              "    <tr>\n",
              "      <th>3</th>\n",
              "      <td>3</td>\n",
              "      <td>2013</td>\n",
              "      <td>3.0</td>\n",
              "      <td>1.0</td>\n",
              "      <td>3.0</td>\n",
              "      <td>6.0</td>\n",
              "      <td>-1.4</td>\n",
              "      <td>1024.5</td>\n",
              "      <td>0.0</td>\n",
              "      <td>NW</td>\n",
              "      <td>3.1</td>\n",
              "    </tr>\n",
              "    <tr>\n",
              "      <th>4</th>\n",
              "      <td>4</td>\n",
              "      <td>2013</td>\n",
              "      <td>3.0</td>\n",
              "      <td>1.0</td>\n",
              "      <td>4.0</td>\n",
              "      <td>3.0</td>\n",
              "      <td>-2.0</td>\n",
              "      <td>1025.2</td>\n",
              "      <td>0.0</td>\n",
              "      <td>N</td>\n",
              "      <td>2.0</td>\n",
              "    </tr>\n",
              "    <tr>\n",
              "      <th>...</th>\n",
              "      <td>...</td>\n",
              "      <td>...</td>\n",
              "      <td>...</td>\n",
              "      <td>...</td>\n",
              "      <td>...</td>\n",
              "      <td>...</td>\n",
              "      <td>...</td>\n",
              "      <td>...</td>\n",
              "      <td>...</td>\n",
              "      <td>...</td>\n",
              "      <td>...</td>\n",
              "    </tr>\n",
              "    <tr>\n",
              "      <th>31522</th>\n",
              "      <td>35022</td>\n",
              "      <td>2017</td>\n",
              "      <td>2.0</td>\n",
              "      <td>27.0</td>\n",
              "      <td>6.0</td>\n",
              "      <td>80.0</td>\n",
              "      <td>-0.3</td>\n",
              "      <td>1019.4</td>\n",
              "      <td>0.0</td>\n",
              "      <td>ENE</td>\n",
              "      <td>0.8</td>\n",
              "    </tr>\n",
              "    <tr>\n",
              "      <th>31523</th>\n",
              "      <td>35032</td>\n",
              "      <td>2017</td>\n",
              "      <td>2.0</td>\n",
              "      <td>27.0</td>\n",
              "      <td>16.0</td>\n",
              "      <td>75.0</td>\n",
              "      <td>15.9</td>\n",
              "      <td>1014</td>\n",
              "      <td>0.0</td>\n",
              "      <td>SW</td>\n",
              "      <td>2.9</td>\n",
              "    </tr>\n",
              "    <tr>\n",
              "      <th>31524</th>\n",
              "      <td>35035</td>\n",
              "      <td>2017</td>\n",
              "      <td>2.0</td>\n",
              "      <td>27.0</td>\n",
              "      <td>19.0</td>\n",
              "      <td>51.0</td>\n",
              "      <td>11.5</td>\n",
              "      <td>1014.1</td>\n",
              "      <td>0.0</td>\n",
              "      <td>SSW</td>\n",
              "      <td>1.0</td>\n",
              "    </tr>\n",
              "    <tr>\n",
              "      <th>31525</th>\n",
              "      <td>35042</td>\n",
              "      <td>2017</td>\n",
              "      <td>2.0</td>\n",
              "      <td>28.0</td>\n",
              "      <td>2.0</td>\n",
              "      <td>9.0</td>\n",
              "      <td>8.6</td>\n",
              "      <td>1016</td>\n",
              "      <td>0.0</td>\n",
              "      <td>NNE</td>\n",
              "      <td>0.9</td>\n",
              "    </tr>\n",
              "    <tr>\n",
              "      <th>31526</th>\n",
              "      <td>35054</td>\n",
              "      <td>2017</td>\n",
              "      <td>2.0</td>\n",
              "      <td>28.0</td>\n",
              "      <td>14.0</td>\n",
              "      <td>5.0</td>\n",
              "      <td>14.6</td>\n",
              "      <td>1013.3</td>\n",
              "      <td>0.0</td>\n",
              "      <td>N</td>\n",
              "      <td>3.6</td>\n",
              "    </tr>\n",
              "  </tbody>\n",
              "</table>\n",
              "<p>31527 rows × 11 columns</p>\n",
              "</div>"
            ],
            "text/plain": [
              "       Unnamed: 0    year  month  ...  rain  wind_direction  wind_speed\n",
              "0               0    2013  -37.0  ...   0.0             NNW         4.4\n",
              "1               1  201-37  -37.0  ...   0.0               N         5.6\n",
              "2               2    2013    3.0  ...   0.0             NNW         5.6\n",
              "3               3    2013    3.0  ...   0.0              NW         3.1\n",
              "4               4    2013    3.0  ...   0.0               N         2.0\n",
              "...           ...     ...    ...  ...   ...             ...         ...\n",
              "31522       35022    2017    2.0  ...   0.0             ENE         0.8\n",
              "31523       35032    2017    2.0  ...   0.0              SW         2.9\n",
              "31524       35035    2017    2.0  ...   0.0             SSW         1.0\n",
              "31525       35042    2017    2.0  ...   0.0             NNE         0.9\n",
              "31526       35054    2017    2.0  ...   0.0               N         3.6\n",
              "\n",
              "[31527 rows x 11 columns]"
            ]
          },
          "metadata": {},
          "execution_count": 34
        }
      ]
    },
    {
      "cell_type": "markdown",
      "metadata": {
        "id": "Jm4xwZRzFmYk"
      },
      "source": [
        "##Encoding\n",
        "Here wind_direction column cannot be used in the mathematical equation of the model so we need to encode these variables into numbers. To achieve this get_dummies function is imported from the pandas library."
      ]
    },
    {
      "cell_type": "code",
      "metadata": {
        "id": "Qze-HA3ZD7CW"
      },
      "source": [
        "#encoding\n",
        "dummies = pd.get_dummies(df['wind_direction'])\n",
        "df = df.drop('wind_direction',1)\n",
        "df = pd.concat([df, dummies], axis=1)"
      ],
      "execution_count": null,
      "outputs": []
    },
    {
      "cell_type": "markdown",
      "metadata": {
        "id": "JwlP8fxOGP9D"
      },
      "source": [
        "##Data cleaning\n",
        "Some unusual data entry format is found in columns such as **'month,'year',** and **'pressure'.** As a result, we check the location of such errors by applying the required condition and assigning a null to it."
      ]
    },
    {
      "cell_type": "code",
      "metadata": {
        "id": "wvekJQm2NJLN"
      },
      "source": [
        "#replacing errors with null\n",
        "for x in df.index:\n",
        "  if df.loc[x,\"month\"]<1:\n",
        "    df.loc[x,\"month\"]=None\n",
        "  try:\n",
        "    df.loc[x,\"year\"]=int(df.loc[x,\"year\"])\n",
        "  except:\n",
        "    df.loc[x,\"year\"]=None\n",
        "for x in df.index:\n",
        "  try:\n",
        "    df.loc[x,\"pressure\"]=float(df.loc[x,\"pressure\"])\n",
        "  except:\n",
        "    df.loc[x,\"pressure\"]=None  "
      ],
      "execution_count": null,
      "outputs": []
    },
    {
      "cell_type": "code",
      "metadata": {
        "colab": {
          "base_uri": "https://localhost:8080/",
          "height": 202
        },
        "id": "kFN7Zt1Gn3yb",
        "outputId": "a9ff934f-da93-4df5-d900-8dd521baf64e"
      },
      "source": [
        "df.head()\n"
      ],
      "execution_count": null,
      "outputs": [
        {
          "output_type": "execute_result",
          "data": {
            "text/html": [
              "<div>\n",
              "<style scoped>\n",
              "    .dataframe tbody tr th:only-of-type {\n",
              "        vertical-align: middle;\n",
              "    }\n",
              "\n",
              "    .dataframe tbody tr th {\n",
              "        vertical-align: top;\n",
              "    }\n",
              "\n",
              "    .dataframe thead th {\n",
              "        text-align: right;\n",
              "    }\n",
              "</style>\n",
              "<table border=\"1\" class=\"dataframe\">\n",
              "  <thead>\n",
              "    <tr style=\"text-align: right;\">\n",
              "      <th></th>\n",
              "      <th>Unnamed: 0</th>\n",
              "      <th>year</th>\n",
              "      <th>month</th>\n",
              "      <th>day</th>\n",
              "      <th>hour</th>\n",
              "      <th>PM2.5</th>\n",
              "      <th>temperature</th>\n",
              "      <th>pressure</th>\n",
              "      <th>rain</th>\n",
              "      <th>wind_speed</th>\n",
              "      <th>E</th>\n",
              "      <th>ENE</th>\n",
              "      <th>ESE</th>\n",
              "      <th>N</th>\n",
              "      <th>NE</th>\n",
              "      <th>NNE</th>\n",
              "      <th>NNW</th>\n",
              "      <th>NW</th>\n",
              "      <th>S</th>\n",
              "      <th>SE</th>\n",
              "      <th>SSE</th>\n",
              "      <th>SSW</th>\n",
              "      <th>SW</th>\n",
              "      <th>W</th>\n",
              "      <th>WNW</th>\n",
              "      <th>WSW</th>\n",
              "    </tr>\n",
              "  </thead>\n",
              "  <tbody>\n",
              "    <tr>\n",
              "      <th>0</th>\n",
              "      <td>0</td>\n",
              "      <td>2013</td>\n",
              "      <td>NaN</td>\n",
              "      <td>1.0</td>\n",
              "      <td>0.0</td>\n",
              "      <td>4.0</td>\n",
              "      <td>-0.7</td>\n",
              "      <td>None</td>\n",
              "      <td>0.0</td>\n",
              "      <td>4.4</td>\n",
              "      <td>0</td>\n",
              "      <td>0</td>\n",
              "      <td>0</td>\n",
              "      <td>0</td>\n",
              "      <td>0</td>\n",
              "      <td>0</td>\n",
              "      <td>1</td>\n",
              "      <td>0</td>\n",
              "      <td>0</td>\n",
              "      <td>0</td>\n",
              "      <td>0</td>\n",
              "      <td>0</td>\n",
              "      <td>0</td>\n",
              "      <td>0</td>\n",
              "      <td>0</td>\n",
              "      <td>0</td>\n",
              "    </tr>\n",
              "    <tr>\n",
              "      <th>1</th>\n",
              "      <td>1</td>\n",
              "      <td>None</td>\n",
              "      <td>NaN</td>\n",
              "      <td>1.0</td>\n",
              "      <td>1.0</td>\n",
              "      <td>8.0</td>\n",
              "      <td>-1.1</td>\n",
              "      <td>1023.2</td>\n",
              "      <td>0.0</td>\n",
              "      <td>5.6</td>\n",
              "      <td>0</td>\n",
              "      <td>0</td>\n",
              "      <td>0</td>\n",
              "      <td>1</td>\n",
              "      <td>0</td>\n",
              "      <td>0</td>\n",
              "      <td>0</td>\n",
              "      <td>0</td>\n",
              "      <td>0</td>\n",
              "      <td>0</td>\n",
              "      <td>0</td>\n",
              "      <td>0</td>\n",
              "      <td>0</td>\n",
              "      <td>0</td>\n",
              "      <td>0</td>\n",
              "      <td>0</td>\n",
              "    </tr>\n",
              "    <tr>\n",
              "      <th>2</th>\n",
              "      <td>2</td>\n",
              "      <td>2013</td>\n",
              "      <td>3.0</td>\n",
              "      <td>1.0</td>\n",
              "      <td>2.0</td>\n",
              "      <td>7.0</td>\n",
              "      <td>-1.1</td>\n",
              "      <td>1023.5</td>\n",
              "      <td>0.0</td>\n",
              "      <td>5.6</td>\n",
              "      <td>0</td>\n",
              "      <td>0</td>\n",
              "      <td>0</td>\n",
              "      <td>0</td>\n",
              "      <td>0</td>\n",
              "      <td>0</td>\n",
              "      <td>1</td>\n",
              "      <td>0</td>\n",
              "      <td>0</td>\n",
              "      <td>0</td>\n",
              "      <td>0</td>\n",
              "      <td>0</td>\n",
              "      <td>0</td>\n",
              "      <td>0</td>\n",
              "      <td>0</td>\n",
              "      <td>0</td>\n",
              "    </tr>\n",
              "    <tr>\n",
              "      <th>3</th>\n",
              "      <td>3</td>\n",
              "      <td>2013</td>\n",
              "      <td>3.0</td>\n",
              "      <td>1.0</td>\n",
              "      <td>3.0</td>\n",
              "      <td>6.0</td>\n",
              "      <td>-1.4</td>\n",
              "      <td>1024.5</td>\n",
              "      <td>0.0</td>\n",
              "      <td>3.1</td>\n",
              "      <td>0</td>\n",
              "      <td>0</td>\n",
              "      <td>0</td>\n",
              "      <td>0</td>\n",
              "      <td>0</td>\n",
              "      <td>0</td>\n",
              "      <td>0</td>\n",
              "      <td>1</td>\n",
              "      <td>0</td>\n",
              "      <td>0</td>\n",
              "      <td>0</td>\n",
              "      <td>0</td>\n",
              "      <td>0</td>\n",
              "      <td>0</td>\n",
              "      <td>0</td>\n",
              "      <td>0</td>\n",
              "    </tr>\n",
              "    <tr>\n",
              "      <th>4</th>\n",
              "      <td>4</td>\n",
              "      <td>2013</td>\n",
              "      <td>3.0</td>\n",
              "      <td>1.0</td>\n",
              "      <td>4.0</td>\n",
              "      <td>3.0</td>\n",
              "      <td>-2.0</td>\n",
              "      <td>1025.2</td>\n",
              "      <td>0.0</td>\n",
              "      <td>2.0</td>\n",
              "      <td>0</td>\n",
              "      <td>0</td>\n",
              "      <td>0</td>\n",
              "      <td>1</td>\n",
              "      <td>0</td>\n",
              "      <td>0</td>\n",
              "      <td>0</td>\n",
              "      <td>0</td>\n",
              "      <td>0</td>\n",
              "      <td>0</td>\n",
              "      <td>0</td>\n",
              "      <td>0</td>\n",
              "      <td>0</td>\n",
              "      <td>0</td>\n",
              "      <td>0</td>\n",
              "      <td>0</td>\n",
              "    </tr>\n",
              "  </tbody>\n",
              "</table>\n",
              "</div>"
            ],
            "text/plain": [
              "   Unnamed: 0  year  month  day  hour  PM2.5  ...  SSE SSW  SW  W  WNW  WSW\n",
              "0           0  2013    NaN  1.0   0.0    4.0  ...    0   0   0  0    0    0\n",
              "1           1  None    NaN  1.0   1.0    8.0  ...    0   0   0  0    0    0\n",
              "2           2  2013    3.0  1.0   2.0    7.0  ...    0   0   0  0    0    0\n",
              "3           3  2013    3.0  1.0   3.0    6.0  ...    0   0   0  0    0    0\n",
              "4           4  2013    3.0  1.0   4.0    3.0  ...    0   0   0  0    0    0\n",
              "\n",
              "[5 rows x 26 columns]"
            ]
          },
          "metadata": {},
          "execution_count": 37
        }
      ]
    },
    {
      "cell_type": "markdown",
      "metadata": {
        "id": "XJjeqx16isai"
      },
      "source": [
        "##**Filling the replaced error using Backfilling**\n",
        "Backfilling method is used to replace the missing data in this case. As the data set is already sorted concerning **hours, day, month, year**. So if we fill the missing values with mean-value, then the deviation would increase. Hence error would increase. The given features would be almost the same in the next hour also. For example, the temperature is 1.9 at a particular hour, then the next hour if the temperature would be around 1.9 only, not 14.356532039734322. So,backfilling method is chosen."
      ]
    },
    {
      "cell_type": "code",
      "metadata": {
        "colab": {
          "base_uri": "https://localhost:8080/",
          "height": 294
        },
        "id": "HO7IpDn7kcH9",
        "outputId": "84c97a07-6e0d-468b-a74d-af4f2922d1a3"
      },
      "source": [
        "\n",
        "# filling (backfill methid) the data after removal of unwanted datas\n",
        "df=df.fillna(method=\"bfill\")\n",
        "\n",
        "df.head(8)\n"
      ],
      "execution_count": null,
      "outputs": [
        {
          "output_type": "execute_result",
          "data": {
            "text/html": [
              "<div>\n",
              "<style scoped>\n",
              "    .dataframe tbody tr th:only-of-type {\n",
              "        vertical-align: middle;\n",
              "    }\n",
              "\n",
              "    .dataframe tbody tr th {\n",
              "        vertical-align: top;\n",
              "    }\n",
              "\n",
              "    .dataframe thead th {\n",
              "        text-align: right;\n",
              "    }\n",
              "</style>\n",
              "<table border=\"1\" class=\"dataframe\">\n",
              "  <thead>\n",
              "    <tr style=\"text-align: right;\">\n",
              "      <th></th>\n",
              "      <th>Unnamed: 0</th>\n",
              "      <th>year</th>\n",
              "      <th>month</th>\n",
              "      <th>day</th>\n",
              "      <th>hour</th>\n",
              "      <th>PM2.5</th>\n",
              "      <th>temperature</th>\n",
              "      <th>pressure</th>\n",
              "      <th>rain</th>\n",
              "      <th>wind_speed</th>\n",
              "      <th>E</th>\n",
              "      <th>ENE</th>\n",
              "      <th>ESE</th>\n",
              "      <th>N</th>\n",
              "      <th>NE</th>\n",
              "      <th>NNE</th>\n",
              "      <th>NNW</th>\n",
              "      <th>NW</th>\n",
              "      <th>S</th>\n",
              "      <th>SE</th>\n",
              "      <th>SSE</th>\n",
              "      <th>SSW</th>\n",
              "      <th>SW</th>\n",
              "      <th>W</th>\n",
              "      <th>WNW</th>\n",
              "      <th>WSW</th>\n",
              "    </tr>\n",
              "  </thead>\n",
              "  <tbody>\n",
              "    <tr>\n",
              "      <th>0</th>\n",
              "      <td>0</td>\n",
              "      <td>2013</td>\n",
              "      <td>3.0</td>\n",
              "      <td>1.0</td>\n",
              "      <td>0.0</td>\n",
              "      <td>4.0</td>\n",
              "      <td>-0.7</td>\n",
              "      <td>1023.2</td>\n",
              "      <td>0.0</td>\n",
              "      <td>4.4</td>\n",
              "      <td>0</td>\n",
              "      <td>0</td>\n",
              "      <td>0</td>\n",
              "      <td>0</td>\n",
              "      <td>0</td>\n",
              "      <td>0</td>\n",
              "      <td>1</td>\n",
              "      <td>0</td>\n",
              "      <td>0</td>\n",
              "      <td>0</td>\n",
              "      <td>0</td>\n",
              "      <td>0</td>\n",
              "      <td>0</td>\n",
              "      <td>0</td>\n",
              "      <td>0</td>\n",
              "      <td>0</td>\n",
              "    </tr>\n",
              "    <tr>\n",
              "      <th>1</th>\n",
              "      <td>1</td>\n",
              "      <td>2013</td>\n",
              "      <td>3.0</td>\n",
              "      <td>1.0</td>\n",
              "      <td>1.0</td>\n",
              "      <td>8.0</td>\n",
              "      <td>-1.1</td>\n",
              "      <td>1023.2</td>\n",
              "      <td>0.0</td>\n",
              "      <td>5.6</td>\n",
              "      <td>0</td>\n",
              "      <td>0</td>\n",
              "      <td>0</td>\n",
              "      <td>1</td>\n",
              "      <td>0</td>\n",
              "      <td>0</td>\n",
              "      <td>0</td>\n",
              "      <td>0</td>\n",
              "      <td>0</td>\n",
              "      <td>0</td>\n",
              "      <td>0</td>\n",
              "      <td>0</td>\n",
              "      <td>0</td>\n",
              "      <td>0</td>\n",
              "      <td>0</td>\n",
              "      <td>0</td>\n",
              "    </tr>\n",
              "    <tr>\n",
              "      <th>2</th>\n",
              "      <td>2</td>\n",
              "      <td>2013</td>\n",
              "      <td>3.0</td>\n",
              "      <td>1.0</td>\n",
              "      <td>2.0</td>\n",
              "      <td>7.0</td>\n",
              "      <td>-1.1</td>\n",
              "      <td>1023.5</td>\n",
              "      <td>0.0</td>\n",
              "      <td>5.6</td>\n",
              "      <td>0</td>\n",
              "      <td>0</td>\n",
              "      <td>0</td>\n",
              "      <td>0</td>\n",
              "      <td>0</td>\n",
              "      <td>0</td>\n",
              "      <td>1</td>\n",
              "      <td>0</td>\n",
              "      <td>0</td>\n",
              "      <td>0</td>\n",
              "      <td>0</td>\n",
              "      <td>0</td>\n",
              "      <td>0</td>\n",
              "      <td>0</td>\n",
              "      <td>0</td>\n",
              "      <td>0</td>\n",
              "    </tr>\n",
              "    <tr>\n",
              "      <th>3</th>\n",
              "      <td>3</td>\n",
              "      <td>2013</td>\n",
              "      <td>3.0</td>\n",
              "      <td>1.0</td>\n",
              "      <td>3.0</td>\n",
              "      <td>6.0</td>\n",
              "      <td>-1.4</td>\n",
              "      <td>1024.5</td>\n",
              "      <td>0.0</td>\n",
              "      <td>3.1</td>\n",
              "      <td>0</td>\n",
              "      <td>0</td>\n",
              "      <td>0</td>\n",
              "      <td>0</td>\n",
              "      <td>0</td>\n",
              "      <td>0</td>\n",
              "      <td>0</td>\n",
              "      <td>1</td>\n",
              "      <td>0</td>\n",
              "      <td>0</td>\n",
              "      <td>0</td>\n",
              "      <td>0</td>\n",
              "      <td>0</td>\n",
              "      <td>0</td>\n",
              "      <td>0</td>\n",
              "      <td>0</td>\n",
              "    </tr>\n",
              "    <tr>\n",
              "      <th>4</th>\n",
              "      <td>4</td>\n",
              "      <td>2013</td>\n",
              "      <td>3.0</td>\n",
              "      <td>1.0</td>\n",
              "      <td>4.0</td>\n",
              "      <td>3.0</td>\n",
              "      <td>-2.0</td>\n",
              "      <td>1025.2</td>\n",
              "      <td>0.0</td>\n",
              "      <td>2.0</td>\n",
              "      <td>0</td>\n",
              "      <td>0</td>\n",
              "      <td>0</td>\n",
              "      <td>1</td>\n",
              "      <td>0</td>\n",
              "      <td>0</td>\n",
              "      <td>0</td>\n",
              "      <td>0</td>\n",
              "      <td>0</td>\n",
              "      <td>0</td>\n",
              "      <td>0</td>\n",
              "      <td>0</td>\n",
              "      <td>0</td>\n",
              "      <td>0</td>\n",
              "      <td>0</td>\n",
              "      <td>0</td>\n",
              "    </tr>\n",
              "    <tr>\n",
              "      <th>5</th>\n",
              "      <td>5</td>\n",
              "      <td>2013</td>\n",
              "      <td>3.0</td>\n",
              "      <td>1.0</td>\n",
              "      <td>6.0</td>\n",
              "      <td>5.0</td>\n",
              "      <td>-2.2</td>\n",
              "      <td>1025.6</td>\n",
              "      <td>0.0</td>\n",
              "      <td>3.7</td>\n",
              "      <td>0</td>\n",
              "      <td>0</td>\n",
              "      <td>0</td>\n",
              "      <td>1</td>\n",
              "      <td>0</td>\n",
              "      <td>0</td>\n",
              "      <td>0</td>\n",
              "      <td>0</td>\n",
              "      <td>0</td>\n",
              "      <td>0</td>\n",
              "      <td>0</td>\n",
              "      <td>0</td>\n",
              "      <td>0</td>\n",
              "      <td>0</td>\n",
              "      <td>0</td>\n",
              "      <td>0</td>\n",
              "    </tr>\n",
              "    <tr>\n",
              "      <th>6</th>\n",
              "      <td>6</td>\n",
              "      <td>2013</td>\n",
              "      <td>3.0</td>\n",
              "      <td>1.0</td>\n",
              "      <td>6.0</td>\n",
              "      <td>3.0</td>\n",
              "      <td>-2.6</td>\n",
              "      <td>1026.5</td>\n",
              "      <td>0.0</td>\n",
              "      <td>2.5</td>\n",
              "      <td>0</td>\n",
              "      <td>0</td>\n",
              "      <td>0</td>\n",
              "      <td>0</td>\n",
              "      <td>0</td>\n",
              "      <td>1</td>\n",
              "      <td>0</td>\n",
              "      <td>0</td>\n",
              "      <td>0</td>\n",
              "      <td>0</td>\n",
              "      <td>0</td>\n",
              "      <td>0</td>\n",
              "      <td>0</td>\n",
              "      <td>0</td>\n",
              "      <td>0</td>\n",
              "      <td>0</td>\n",
              "    </tr>\n",
              "    <tr>\n",
              "      <th>7</th>\n",
              "      <td>7</td>\n",
              "      <td>2013</td>\n",
              "      <td>3.0</td>\n",
              "      <td>1.0</td>\n",
              "      <td>7.0</td>\n",
              "      <td>3.0</td>\n",
              "      <td>-1.6</td>\n",
              "      <td>1027.4</td>\n",
              "      <td>0.0</td>\n",
              "      <td>3.8</td>\n",
              "      <td>0</td>\n",
              "      <td>0</td>\n",
              "      <td>0</td>\n",
              "      <td>0</td>\n",
              "      <td>0</td>\n",
              "      <td>0</td>\n",
              "      <td>1</td>\n",
              "      <td>0</td>\n",
              "      <td>0</td>\n",
              "      <td>0</td>\n",
              "      <td>0</td>\n",
              "      <td>0</td>\n",
              "      <td>0</td>\n",
              "      <td>0</td>\n",
              "      <td>0</td>\n",
              "      <td>0</td>\n",
              "    </tr>\n",
              "  </tbody>\n",
              "</table>\n",
              "</div>"
            ],
            "text/plain": [
              "   Unnamed: 0  year  month  day  hour  PM2.5  ...  SSE  SSW  SW  W  WNW  WSW\n",
              "0           0  2013    3.0  1.0   0.0    4.0  ...    0    0   0  0    0    0\n",
              "1           1  2013    3.0  1.0   1.0    8.0  ...    0    0   0  0    0    0\n",
              "2           2  2013    3.0  1.0   2.0    7.0  ...    0    0   0  0    0    0\n",
              "3           3  2013    3.0  1.0   3.0    6.0  ...    0    0   0  0    0    0\n",
              "4           4  2013    3.0  1.0   4.0    3.0  ...    0    0   0  0    0    0\n",
              "5           5  2013    3.0  1.0   6.0    5.0  ...    0    0   0  0    0    0\n",
              "6           6  2013    3.0  1.0   6.0    3.0  ...    0    0   0  0    0    0\n",
              "7           7  2013    3.0  1.0   7.0    3.0  ...    0    0   0  0    0    0\n",
              "\n",
              "[8 rows x 26 columns]"
            ]
          },
          "metadata": {},
          "execution_count": 38
        }
      ]
    },
    {
      "cell_type": "code",
      "metadata": {
        "colab": {
          "base_uri": "https://localhost:8080/"
        },
        "id": "Zpk-6zVnnyqx",
        "outputId": "16fc0bbd-2581-49e3-80f9-5151492a4aab"
      },
      "source": [
        "df.isnull().sum().sum()"
      ],
      "execution_count": null,
      "outputs": [
        {
          "output_type": "execute_result",
          "data": {
            "text/plain": [
              "0"
            ]
          },
          "metadata": {},
          "execution_count": 39
        }
      ]
    },
    {
      "cell_type": "markdown",
      "metadata": {
        "id": "25eozQIXHw-D"
      },
      "source": [
        "#Scaling\n",
        "With the help of **minxmaxscaler()** from sklearn.preprocessing, the dataframe is scaled down to avoid variance and improve accuracy."
      ]
    },
    {
      "cell_type": "code",
      "metadata": {
        "id": "QrEm4L9j3BNF"
      },
      "source": [
        "#scaling\n",
        "from sklearn.preprocessing import MinMaxScaler\n",
        "scaling = MinMaxScaler()\n",
        "df[['year','month','day','hour','PM2.5','temperature','pressure']]=scaling.fit_transform(df[['year','month','day','hour','PM2.5','temperature','pressure']])\n"
      ],
      "execution_count": null,
      "outputs": []
    },
    {
      "cell_type": "code",
      "metadata": {
        "colab": {
          "base_uri": "https://localhost:8080/",
          "height": 202
        },
        "id": "aCARnKjQ8Nn7",
        "outputId": "bc210295-ce72-48b6-8a27-0da7ab70bac7"
      },
      "source": [
        "df.head()"
      ],
      "execution_count": null,
      "outputs": [
        {
          "output_type": "execute_result",
          "data": {
            "text/html": [
              "<div>\n",
              "<style scoped>\n",
              "    .dataframe tbody tr th:only-of-type {\n",
              "        vertical-align: middle;\n",
              "    }\n",
              "\n",
              "    .dataframe tbody tr th {\n",
              "        vertical-align: top;\n",
              "    }\n",
              "\n",
              "    .dataframe thead th {\n",
              "        text-align: right;\n",
              "    }\n",
              "</style>\n",
              "<table border=\"1\" class=\"dataframe\">\n",
              "  <thead>\n",
              "    <tr style=\"text-align: right;\">\n",
              "      <th></th>\n",
              "      <th>Unnamed: 0</th>\n",
              "      <th>year</th>\n",
              "      <th>month</th>\n",
              "      <th>day</th>\n",
              "      <th>hour</th>\n",
              "      <th>PM2.5</th>\n",
              "      <th>temperature</th>\n",
              "      <th>pressure</th>\n",
              "      <th>rain</th>\n",
              "      <th>wind_speed</th>\n",
              "      <th>E</th>\n",
              "      <th>ENE</th>\n",
              "      <th>ESE</th>\n",
              "      <th>N</th>\n",
              "      <th>NE</th>\n",
              "      <th>NNE</th>\n",
              "      <th>NNW</th>\n",
              "      <th>NW</th>\n",
              "      <th>S</th>\n",
              "      <th>SE</th>\n",
              "      <th>SSE</th>\n",
              "      <th>SSW</th>\n",
              "      <th>SW</th>\n",
              "      <th>W</th>\n",
              "      <th>WNW</th>\n",
              "      <th>WSW</th>\n",
              "    </tr>\n",
              "  </thead>\n",
              "  <tbody>\n",
              "    <tr>\n",
              "      <th>0</th>\n",
              "      <td>0</td>\n",
              "      <td>0.0</td>\n",
              "      <td>0.181818</td>\n",
              "      <td>0.994725</td>\n",
              "      <td>0.996454</td>\n",
              "      <td>1.575680e-08</td>\n",
              "      <td>0.280977</td>\n",
              "      <td>0.997189</td>\n",
              "      <td>0.0</td>\n",
              "      <td>4.4</td>\n",
              "      <td>0</td>\n",
              "      <td>0</td>\n",
              "      <td>0</td>\n",
              "      <td>0</td>\n",
              "      <td>0</td>\n",
              "      <td>0</td>\n",
              "      <td>1</td>\n",
              "      <td>0</td>\n",
              "      <td>0</td>\n",
              "      <td>0</td>\n",
              "      <td>0</td>\n",
              "      <td>0</td>\n",
              "      <td>0</td>\n",
              "      <td>0</td>\n",
              "      <td>0</td>\n",
              "      <td>0</td>\n",
              "    </tr>\n",
              "    <tr>\n",
              "      <th>1</th>\n",
              "      <td>1</td>\n",
              "      <td>0.0</td>\n",
              "      <td>0.181818</td>\n",
              "      <td>0.994725</td>\n",
              "      <td>0.996609</td>\n",
              "      <td>7.878400e-08</td>\n",
              "      <td>0.273997</td>\n",
              "      <td>0.997189</td>\n",
              "      <td>0.0</td>\n",
              "      <td>5.6</td>\n",
              "      <td>0</td>\n",
              "      <td>0</td>\n",
              "      <td>0</td>\n",
              "      <td>1</td>\n",
              "      <td>0</td>\n",
              "      <td>0</td>\n",
              "      <td>0</td>\n",
              "      <td>0</td>\n",
              "      <td>0</td>\n",
              "      <td>0</td>\n",
              "      <td>0</td>\n",
              "      <td>0</td>\n",
              "      <td>0</td>\n",
              "      <td>0</td>\n",
              "      <td>0</td>\n",
              "      <td>0</td>\n",
              "    </tr>\n",
              "    <tr>\n",
              "      <th>2</th>\n",
              "      <td>2</td>\n",
              "      <td>0.0</td>\n",
              "      <td>0.181818</td>\n",
              "      <td>0.994725</td>\n",
              "      <td>0.996763</td>\n",
              "      <td>6.302720e-08</td>\n",
              "      <td>0.273997</td>\n",
              "      <td>0.997234</td>\n",
              "      <td>0.0</td>\n",
              "      <td>5.6</td>\n",
              "      <td>0</td>\n",
              "      <td>0</td>\n",
              "      <td>0</td>\n",
              "      <td>0</td>\n",
              "      <td>0</td>\n",
              "      <td>0</td>\n",
              "      <td>1</td>\n",
              "      <td>0</td>\n",
              "      <td>0</td>\n",
              "      <td>0</td>\n",
              "      <td>0</td>\n",
              "      <td>0</td>\n",
              "      <td>0</td>\n",
              "      <td>0</td>\n",
              "      <td>0</td>\n",
              "      <td>0</td>\n",
              "    </tr>\n",
              "    <tr>\n",
              "      <th>3</th>\n",
              "      <td>3</td>\n",
              "      <td>0.0</td>\n",
              "      <td>0.181818</td>\n",
              "      <td>0.994725</td>\n",
              "      <td>0.996917</td>\n",
              "      <td>4.727040e-08</td>\n",
              "      <td>0.268761</td>\n",
              "      <td>0.997383</td>\n",
              "      <td>0.0</td>\n",
              "      <td>3.1</td>\n",
              "      <td>0</td>\n",
              "      <td>0</td>\n",
              "      <td>0</td>\n",
              "      <td>0</td>\n",
              "      <td>0</td>\n",
              "      <td>0</td>\n",
              "      <td>0</td>\n",
              "      <td>1</td>\n",
              "      <td>0</td>\n",
              "      <td>0</td>\n",
              "      <td>0</td>\n",
              "      <td>0</td>\n",
              "      <td>0</td>\n",
              "      <td>0</td>\n",
              "      <td>0</td>\n",
              "      <td>0</td>\n",
              "    </tr>\n",
              "    <tr>\n",
              "      <th>4</th>\n",
              "      <td>4</td>\n",
              "      <td>0.0</td>\n",
              "      <td>0.181818</td>\n",
              "      <td>0.994725</td>\n",
              "      <td>0.997071</td>\n",
              "      <td>0.000000e+00</td>\n",
              "      <td>0.258290</td>\n",
              "      <td>0.997488</td>\n",
              "      <td>0.0</td>\n",
              "      <td>2.0</td>\n",
              "      <td>0</td>\n",
              "      <td>0</td>\n",
              "      <td>0</td>\n",
              "      <td>1</td>\n",
              "      <td>0</td>\n",
              "      <td>0</td>\n",
              "      <td>0</td>\n",
              "      <td>0</td>\n",
              "      <td>0</td>\n",
              "      <td>0</td>\n",
              "      <td>0</td>\n",
              "      <td>0</td>\n",
              "      <td>0</td>\n",
              "      <td>0</td>\n",
              "      <td>0</td>\n",
              "      <td>0</td>\n",
              "    </tr>\n",
              "  </tbody>\n",
              "</table>\n",
              "</div>"
            ],
            "text/plain": [
              "   Unnamed: 0  year     month       day      hour  ...  SSW  SW  W  WNW  WSW\n",
              "0           0   0.0  0.181818  0.994725  0.996454  ...    0   0  0    0    0\n",
              "1           1   0.0  0.181818  0.994725  0.996609  ...    0   0  0    0    0\n",
              "2           2   0.0  0.181818  0.994725  0.996763  ...    0   0  0    0    0\n",
              "3           3   0.0  0.181818  0.994725  0.996917  ...    0   0  0    0    0\n",
              "4           4   0.0  0.181818  0.994725  0.997071  ...    0   0  0    0    0\n",
              "\n",
              "[5 rows x 26 columns]"
            ]
          },
          "metadata": {},
          "execution_count": 41
        }
      ]
    },
    {
      "cell_type": "code",
      "metadata": {
        "colab": {
          "base_uri": "https://localhost:8080/"
        },
        "id": "E6hXIrVQtHRf",
        "outputId": "9175f63a-1c9a-4ed6-8f11-605f75c26f36"
      },
      "source": [
        "#mean\n",
        "df.mean().mean()\n"
      ],
      "execution_count": null,
      "outputs": [
        {
          "output_type": "execute_result",
          "data": {
            "text/plain": [
              "623.1908803802986"
            ]
          },
          "metadata": {},
          "execution_count": 42
        }
      ]
    },
    {
      "cell_type": "code",
      "metadata": {
        "colab": {
          "base_uri": "https://localhost:8080/"
        },
        "id": "jirgntqwjIO2",
        "outputId": "70c7cb5c-96c6-428f-d7cc-df43dff5a108"
      },
      "source": [
        "#median\n",
        "df.median().median()"
      ],
      "execution_count": null,
      "outputs": [
        {
          "output_type": "execute_result",
          "data": {
            "text/plain": [
              "0.0"
            ]
          },
          "metadata": {},
          "execution_count": 43
        }
      ]
    },
    {
      "cell_type": "code",
      "metadata": {
        "id": "_XyHisxjl4KL"
      },
      "source": [
        "#removing duplicates\n",
        "df.drop_duplicates(inplace=True)"
      ],
      "execution_count": null,
      "outputs": []
    },
    {
      "cell_type": "code",
      "metadata": {
        "colab": {
          "base_uri": "https://localhost:8080/",
          "height": 414
        },
        "id": "pzot45fAol8E",
        "outputId": "85f651e6-9373-4440-d10e-60e305143c54"
      },
      "source": [
        "df"
      ],
      "execution_count": null,
      "outputs": [
        {
          "output_type": "execute_result",
          "data": {
            "text/html": [
              "<div>\n",
              "<style scoped>\n",
              "    .dataframe tbody tr th:only-of-type {\n",
              "        vertical-align: middle;\n",
              "    }\n",
              "\n",
              "    .dataframe tbody tr th {\n",
              "        vertical-align: top;\n",
              "    }\n",
              "\n",
              "    .dataframe thead th {\n",
              "        text-align: right;\n",
              "    }\n",
              "</style>\n",
              "<table border=\"1\" class=\"dataframe\">\n",
              "  <thead>\n",
              "    <tr style=\"text-align: right;\">\n",
              "      <th></th>\n",
              "      <th>Unnamed: 0</th>\n",
              "      <th>year</th>\n",
              "      <th>month</th>\n",
              "      <th>day</th>\n",
              "      <th>hour</th>\n",
              "      <th>PM2.5</th>\n",
              "      <th>temperature</th>\n",
              "      <th>pressure</th>\n",
              "      <th>rain</th>\n",
              "      <th>wind_speed</th>\n",
              "      <th>E</th>\n",
              "      <th>ENE</th>\n",
              "      <th>ESE</th>\n",
              "      <th>N</th>\n",
              "      <th>NE</th>\n",
              "      <th>NNE</th>\n",
              "      <th>NNW</th>\n",
              "      <th>NW</th>\n",
              "      <th>S</th>\n",
              "      <th>SE</th>\n",
              "      <th>SSE</th>\n",
              "      <th>SSW</th>\n",
              "      <th>SW</th>\n",
              "      <th>W</th>\n",
              "      <th>WNW</th>\n",
              "      <th>WSW</th>\n",
              "    </tr>\n",
              "  </thead>\n",
              "  <tbody>\n",
              "    <tr>\n",
              "      <th>0</th>\n",
              "      <td>0</td>\n",
              "      <td>0.0</td>\n",
              "      <td>0.181818</td>\n",
              "      <td>0.994725</td>\n",
              "      <td>0.996454</td>\n",
              "      <td>1.575680e-08</td>\n",
              "      <td>0.280977</td>\n",
              "      <td>0.997189</td>\n",
              "      <td>0.0</td>\n",
              "      <td>4.4</td>\n",
              "      <td>0</td>\n",
              "      <td>0</td>\n",
              "      <td>0</td>\n",
              "      <td>0</td>\n",
              "      <td>0</td>\n",
              "      <td>0</td>\n",
              "      <td>1</td>\n",
              "      <td>0</td>\n",
              "      <td>0</td>\n",
              "      <td>0</td>\n",
              "      <td>0</td>\n",
              "      <td>0</td>\n",
              "      <td>0</td>\n",
              "      <td>0</td>\n",
              "      <td>0</td>\n",
              "      <td>0</td>\n",
              "    </tr>\n",
              "    <tr>\n",
              "      <th>1</th>\n",
              "      <td>1</td>\n",
              "      <td>0.0</td>\n",
              "      <td>0.181818</td>\n",
              "      <td>0.994725</td>\n",
              "      <td>0.996609</td>\n",
              "      <td>7.878400e-08</td>\n",
              "      <td>0.273997</td>\n",
              "      <td>0.997189</td>\n",
              "      <td>0.0</td>\n",
              "      <td>5.6</td>\n",
              "      <td>0</td>\n",
              "      <td>0</td>\n",
              "      <td>0</td>\n",
              "      <td>1</td>\n",
              "      <td>0</td>\n",
              "      <td>0</td>\n",
              "      <td>0</td>\n",
              "      <td>0</td>\n",
              "      <td>0</td>\n",
              "      <td>0</td>\n",
              "      <td>0</td>\n",
              "      <td>0</td>\n",
              "      <td>0</td>\n",
              "      <td>0</td>\n",
              "      <td>0</td>\n",
              "      <td>0</td>\n",
              "    </tr>\n",
              "    <tr>\n",
              "      <th>2</th>\n",
              "      <td>2</td>\n",
              "      <td>0.0</td>\n",
              "      <td>0.181818</td>\n",
              "      <td>0.994725</td>\n",
              "      <td>0.996763</td>\n",
              "      <td>6.302720e-08</td>\n",
              "      <td>0.273997</td>\n",
              "      <td>0.997234</td>\n",
              "      <td>0.0</td>\n",
              "      <td>5.6</td>\n",
              "      <td>0</td>\n",
              "      <td>0</td>\n",
              "      <td>0</td>\n",
              "      <td>0</td>\n",
              "      <td>0</td>\n",
              "      <td>0</td>\n",
              "      <td>1</td>\n",
              "      <td>0</td>\n",
              "      <td>0</td>\n",
              "      <td>0</td>\n",
              "      <td>0</td>\n",
              "      <td>0</td>\n",
              "      <td>0</td>\n",
              "      <td>0</td>\n",
              "      <td>0</td>\n",
              "      <td>0</td>\n",
              "    </tr>\n",
              "    <tr>\n",
              "      <th>3</th>\n",
              "      <td>3</td>\n",
              "      <td>0.0</td>\n",
              "      <td>0.181818</td>\n",
              "      <td>0.994725</td>\n",
              "      <td>0.996917</td>\n",
              "      <td>4.727040e-08</td>\n",
              "      <td>0.268761</td>\n",
              "      <td>0.997383</td>\n",
              "      <td>0.0</td>\n",
              "      <td>3.1</td>\n",
              "      <td>0</td>\n",
              "      <td>0</td>\n",
              "      <td>0</td>\n",
              "      <td>0</td>\n",
              "      <td>0</td>\n",
              "      <td>0</td>\n",
              "      <td>0</td>\n",
              "      <td>1</td>\n",
              "      <td>0</td>\n",
              "      <td>0</td>\n",
              "      <td>0</td>\n",
              "      <td>0</td>\n",
              "      <td>0</td>\n",
              "      <td>0</td>\n",
              "      <td>0</td>\n",
              "      <td>0</td>\n",
              "    </tr>\n",
              "    <tr>\n",
              "      <th>4</th>\n",
              "      <td>4</td>\n",
              "      <td>0.0</td>\n",
              "      <td>0.181818</td>\n",
              "      <td>0.994725</td>\n",
              "      <td>0.997071</td>\n",
              "      <td>0.000000e+00</td>\n",
              "      <td>0.258290</td>\n",
              "      <td>0.997488</td>\n",
              "      <td>0.0</td>\n",
              "      <td>2.0</td>\n",
              "      <td>0</td>\n",
              "      <td>0</td>\n",
              "      <td>0</td>\n",
              "      <td>1</td>\n",
              "      <td>0</td>\n",
              "      <td>0</td>\n",
              "      <td>0</td>\n",
              "      <td>0</td>\n",
              "      <td>0</td>\n",
              "      <td>0</td>\n",
              "      <td>0</td>\n",
              "      <td>0</td>\n",
              "      <td>0</td>\n",
              "      <td>0</td>\n",
              "      <td>0</td>\n",
              "      <td>0</td>\n",
              "    </tr>\n",
              "    <tr>\n",
              "      <th>...</th>\n",
              "      <td>...</td>\n",
              "      <td>...</td>\n",
              "      <td>...</td>\n",
              "      <td>...</td>\n",
              "      <td>...</td>\n",
              "      <td>...</td>\n",
              "      <td>...</td>\n",
              "      <td>...</td>\n",
              "      <td>...</td>\n",
              "      <td>...</td>\n",
              "      <td>...</td>\n",
              "      <td>...</td>\n",
              "      <td>...</td>\n",
              "      <td>...</td>\n",
              "      <td>...</td>\n",
              "      <td>...</td>\n",
              "      <td>...</td>\n",
              "      <td>...</td>\n",
              "      <td>...</td>\n",
              "      <td>...</td>\n",
              "      <td>...</td>\n",
              "      <td>...</td>\n",
              "      <td>...</td>\n",
              "      <td>...</td>\n",
              "      <td>...</td>\n",
              "      <td>...</td>\n",
              "    </tr>\n",
              "    <tr>\n",
              "      <th>31522</th>\n",
              "      <td>35022</td>\n",
              "      <td>1.0</td>\n",
              "      <td>0.090909</td>\n",
              "      <td>0.999297</td>\n",
              "      <td>0.997379</td>\n",
              "      <td>1.213274e-06</td>\n",
              "      <td>0.287958</td>\n",
              "      <td>0.996621</td>\n",
              "      <td>0.0</td>\n",
              "      <td>0.8</td>\n",
              "      <td>0</td>\n",
              "      <td>1</td>\n",
              "      <td>0</td>\n",
              "      <td>0</td>\n",
              "      <td>0</td>\n",
              "      <td>0</td>\n",
              "      <td>0</td>\n",
              "      <td>0</td>\n",
              "      <td>0</td>\n",
              "      <td>0</td>\n",
              "      <td>0</td>\n",
              "      <td>0</td>\n",
              "      <td>0</td>\n",
              "      <td>0</td>\n",
              "      <td>0</td>\n",
              "      <td>0</td>\n",
              "    </tr>\n",
              "    <tr>\n",
              "      <th>31523</th>\n",
              "      <td>35032</td>\n",
              "      <td>1.0</td>\n",
              "      <td>0.090909</td>\n",
              "      <td>0.999297</td>\n",
              "      <td>0.998921</td>\n",
              "      <td>1.134490e-06</td>\n",
              "      <td>0.570681</td>\n",
              "      <td>0.995813</td>\n",
              "      <td>0.0</td>\n",
              "      <td>2.9</td>\n",
              "      <td>0</td>\n",
              "      <td>0</td>\n",
              "      <td>0</td>\n",
              "      <td>0</td>\n",
              "      <td>0</td>\n",
              "      <td>0</td>\n",
              "      <td>0</td>\n",
              "      <td>0</td>\n",
              "      <td>0</td>\n",
              "      <td>0</td>\n",
              "      <td>0</td>\n",
              "      <td>0</td>\n",
              "      <td>1</td>\n",
              "      <td>0</td>\n",
              "      <td>0</td>\n",
              "      <td>0</td>\n",
              "    </tr>\n",
              "    <tr>\n",
              "      <th>31524</th>\n",
              "      <td>35035</td>\n",
              "      <td>1.0</td>\n",
              "      <td>0.090909</td>\n",
              "      <td>0.999297</td>\n",
              "      <td>0.999383</td>\n",
              "      <td>7.563264e-07</td>\n",
              "      <td>0.493892</td>\n",
              "      <td>0.995828</td>\n",
              "      <td>0.0</td>\n",
              "      <td>1.0</td>\n",
              "      <td>0</td>\n",
              "      <td>0</td>\n",
              "      <td>0</td>\n",
              "      <td>0</td>\n",
              "      <td>0</td>\n",
              "      <td>0</td>\n",
              "      <td>0</td>\n",
              "      <td>0</td>\n",
              "      <td>0</td>\n",
              "      <td>0</td>\n",
              "      <td>0</td>\n",
              "      <td>1</td>\n",
              "      <td>0</td>\n",
              "      <td>0</td>\n",
              "      <td>0</td>\n",
              "      <td>0</td>\n",
              "    </tr>\n",
              "    <tr>\n",
              "      <th>31525</th>\n",
              "      <td>35042</td>\n",
              "      <td>1.0</td>\n",
              "      <td>0.090909</td>\n",
              "      <td>0.999472</td>\n",
              "      <td>0.996763</td>\n",
              "      <td>9.454080e-08</td>\n",
              "      <td>0.443281</td>\n",
              "      <td>0.996112</td>\n",
              "      <td>0.0</td>\n",
              "      <td>0.9</td>\n",
              "      <td>0</td>\n",
              "      <td>0</td>\n",
              "      <td>0</td>\n",
              "      <td>0</td>\n",
              "      <td>0</td>\n",
              "      <td>1</td>\n",
              "      <td>0</td>\n",
              "      <td>0</td>\n",
              "      <td>0</td>\n",
              "      <td>0</td>\n",
              "      <td>0</td>\n",
              "      <td>0</td>\n",
              "      <td>0</td>\n",
              "      <td>0</td>\n",
              "      <td>0</td>\n",
              "      <td>0</td>\n",
              "    </tr>\n",
              "    <tr>\n",
              "      <th>31526</th>\n",
              "      <td>35054</td>\n",
              "      <td>1.0</td>\n",
              "      <td>0.090909</td>\n",
              "      <td>0.999472</td>\n",
              "      <td>0.998613</td>\n",
              "      <td>3.151360e-08</td>\n",
              "      <td>0.547993</td>\n",
              "      <td>0.995709</td>\n",
              "      <td>0.0</td>\n",
              "      <td>3.6</td>\n",
              "      <td>0</td>\n",
              "      <td>0</td>\n",
              "      <td>0</td>\n",
              "      <td>1</td>\n",
              "      <td>0</td>\n",
              "      <td>0</td>\n",
              "      <td>0</td>\n",
              "      <td>0</td>\n",
              "      <td>0</td>\n",
              "      <td>0</td>\n",
              "      <td>0</td>\n",
              "      <td>0</td>\n",
              "      <td>0</td>\n",
              "      <td>0</td>\n",
              "      <td>0</td>\n",
              "      <td>0</td>\n",
              "    </tr>\n",
              "  </tbody>\n",
              "</table>\n",
              "<p>31527 rows × 26 columns</p>\n",
              "</div>"
            ],
            "text/plain": [
              "       Unnamed: 0  year     month       day      hour  ...  SSW  SW  W  WNW  WSW\n",
              "0               0   0.0  0.181818  0.994725  0.996454  ...    0   0  0    0    0\n",
              "1               1   0.0  0.181818  0.994725  0.996609  ...    0   0  0    0    0\n",
              "2               2   0.0  0.181818  0.994725  0.996763  ...    0   0  0    0    0\n",
              "3               3   0.0  0.181818  0.994725  0.996917  ...    0   0  0    0    0\n",
              "4               4   0.0  0.181818  0.994725  0.997071  ...    0   0  0    0    0\n",
              "...           ...   ...       ...       ...       ...  ...  ...  .. ..  ...  ...\n",
              "31522       35022   1.0  0.090909  0.999297  0.997379  ...    0   0  0    0    0\n",
              "31523       35032   1.0  0.090909  0.999297  0.998921  ...    0   1  0    0    0\n",
              "31524       35035   1.0  0.090909  0.999297  0.999383  ...    1   0  0    0    0\n",
              "31525       35042   1.0  0.090909  0.999472  0.996763  ...    0   0  0    0    0\n",
              "31526       35054   1.0  0.090909  0.999472  0.998613  ...    0   0  0    0    0\n",
              "\n",
              "[31527 rows x 26 columns]"
            ]
          },
          "metadata": {},
          "execution_count": 45
        }
      ]
    },
    {
      "cell_type": "markdown",
      "metadata": {
        "id": "SVHkWaj1eZgt"
      },
      "source": [
        "#**Day 4-5**"
      ]
    },
    {
      "cell_type": "markdown",
      "metadata": {
        "id": "G-4_NOsuqBsk"
      },
      "source": [
        "##Dropping wind_direction\n",
        "Dropping the column with dummy wind direction values and assigning it to a new dataframe called 'df1'. Because we've previously encoded the dataframe, it has no effect on any of the columns."
      ]
    },
    {
      "cell_type": "code",
      "metadata": {
        "id": "65v1FahDC7mn",
        "colab": {
          "base_uri": "https://localhost:8080/",
          "height": 414
        },
        "outputId": "c3c1d1b3-88a5-43dc-a3d7-a6f65217c01b"
      },
      "source": [
        "df1 = df.drop(['E','ENE','ESE','N','NE','NNE','NNW','NW','S','SE','SSE','SSW','SW','W','WNW','WSW'],1)\n",
        "df1"
      ],
      "execution_count": null,
      "outputs": [
        {
          "output_type": "execute_result",
          "data": {
            "text/html": [
              "<div>\n",
              "<style scoped>\n",
              "    .dataframe tbody tr th:only-of-type {\n",
              "        vertical-align: middle;\n",
              "    }\n",
              "\n",
              "    .dataframe tbody tr th {\n",
              "        vertical-align: top;\n",
              "    }\n",
              "\n",
              "    .dataframe thead th {\n",
              "        text-align: right;\n",
              "    }\n",
              "</style>\n",
              "<table border=\"1\" class=\"dataframe\">\n",
              "  <thead>\n",
              "    <tr style=\"text-align: right;\">\n",
              "      <th></th>\n",
              "      <th>Unnamed: 0</th>\n",
              "      <th>year</th>\n",
              "      <th>month</th>\n",
              "      <th>day</th>\n",
              "      <th>hour</th>\n",
              "      <th>PM2.5</th>\n",
              "      <th>temperature</th>\n",
              "      <th>pressure</th>\n",
              "      <th>rain</th>\n",
              "      <th>wind_speed</th>\n",
              "    </tr>\n",
              "  </thead>\n",
              "  <tbody>\n",
              "    <tr>\n",
              "      <th>0</th>\n",
              "      <td>0</td>\n",
              "      <td>0.0</td>\n",
              "      <td>0.181818</td>\n",
              "      <td>0.994725</td>\n",
              "      <td>0.996454</td>\n",
              "      <td>1.575680e-08</td>\n",
              "      <td>0.280977</td>\n",
              "      <td>0.997189</td>\n",
              "      <td>0.0</td>\n",
              "      <td>4.4</td>\n",
              "    </tr>\n",
              "    <tr>\n",
              "      <th>1</th>\n",
              "      <td>1</td>\n",
              "      <td>0.0</td>\n",
              "      <td>0.181818</td>\n",
              "      <td>0.994725</td>\n",
              "      <td>0.996609</td>\n",
              "      <td>7.878400e-08</td>\n",
              "      <td>0.273997</td>\n",
              "      <td>0.997189</td>\n",
              "      <td>0.0</td>\n",
              "      <td>5.6</td>\n",
              "    </tr>\n",
              "    <tr>\n",
              "      <th>2</th>\n",
              "      <td>2</td>\n",
              "      <td>0.0</td>\n",
              "      <td>0.181818</td>\n",
              "      <td>0.994725</td>\n",
              "      <td>0.996763</td>\n",
              "      <td>6.302720e-08</td>\n",
              "      <td>0.273997</td>\n",
              "      <td>0.997234</td>\n",
              "      <td>0.0</td>\n",
              "      <td>5.6</td>\n",
              "    </tr>\n",
              "    <tr>\n",
              "      <th>3</th>\n",
              "      <td>3</td>\n",
              "      <td>0.0</td>\n",
              "      <td>0.181818</td>\n",
              "      <td>0.994725</td>\n",
              "      <td>0.996917</td>\n",
              "      <td>4.727040e-08</td>\n",
              "      <td>0.268761</td>\n",
              "      <td>0.997383</td>\n",
              "      <td>0.0</td>\n",
              "      <td>3.1</td>\n",
              "    </tr>\n",
              "    <tr>\n",
              "      <th>4</th>\n",
              "      <td>4</td>\n",
              "      <td>0.0</td>\n",
              "      <td>0.181818</td>\n",
              "      <td>0.994725</td>\n",
              "      <td>0.997071</td>\n",
              "      <td>0.000000e+00</td>\n",
              "      <td>0.258290</td>\n",
              "      <td>0.997488</td>\n",
              "      <td>0.0</td>\n",
              "      <td>2.0</td>\n",
              "    </tr>\n",
              "    <tr>\n",
              "      <th>...</th>\n",
              "      <td>...</td>\n",
              "      <td>...</td>\n",
              "      <td>...</td>\n",
              "      <td>...</td>\n",
              "      <td>...</td>\n",
              "      <td>...</td>\n",
              "      <td>...</td>\n",
              "      <td>...</td>\n",
              "      <td>...</td>\n",
              "      <td>...</td>\n",
              "    </tr>\n",
              "    <tr>\n",
              "      <th>31522</th>\n",
              "      <td>35022</td>\n",
              "      <td>1.0</td>\n",
              "      <td>0.090909</td>\n",
              "      <td>0.999297</td>\n",
              "      <td>0.997379</td>\n",
              "      <td>1.213274e-06</td>\n",
              "      <td>0.287958</td>\n",
              "      <td>0.996621</td>\n",
              "      <td>0.0</td>\n",
              "      <td>0.8</td>\n",
              "    </tr>\n",
              "    <tr>\n",
              "      <th>31523</th>\n",
              "      <td>35032</td>\n",
              "      <td>1.0</td>\n",
              "      <td>0.090909</td>\n",
              "      <td>0.999297</td>\n",
              "      <td>0.998921</td>\n",
              "      <td>1.134490e-06</td>\n",
              "      <td>0.570681</td>\n",
              "      <td>0.995813</td>\n",
              "      <td>0.0</td>\n",
              "      <td>2.9</td>\n",
              "    </tr>\n",
              "    <tr>\n",
              "      <th>31524</th>\n",
              "      <td>35035</td>\n",
              "      <td>1.0</td>\n",
              "      <td>0.090909</td>\n",
              "      <td>0.999297</td>\n",
              "      <td>0.999383</td>\n",
              "      <td>7.563264e-07</td>\n",
              "      <td>0.493892</td>\n",
              "      <td>0.995828</td>\n",
              "      <td>0.0</td>\n",
              "      <td>1.0</td>\n",
              "    </tr>\n",
              "    <tr>\n",
              "      <th>31525</th>\n",
              "      <td>35042</td>\n",
              "      <td>1.0</td>\n",
              "      <td>0.090909</td>\n",
              "      <td>0.999472</td>\n",
              "      <td>0.996763</td>\n",
              "      <td>9.454080e-08</td>\n",
              "      <td>0.443281</td>\n",
              "      <td>0.996112</td>\n",
              "      <td>0.0</td>\n",
              "      <td>0.9</td>\n",
              "    </tr>\n",
              "    <tr>\n",
              "      <th>31526</th>\n",
              "      <td>35054</td>\n",
              "      <td>1.0</td>\n",
              "      <td>0.090909</td>\n",
              "      <td>0.999472</td>\n",
              "      <td>0.998613</td>\n",
              "      <td>3.151360e-08</td>\n",
              "      <td>0.547993</td>\n",
              "      <td>0.995709</td>\n",
              "      <td>0.0</td>\n",
              "      <td>3.6</td>\n",
              "    </tr>\n",
              "  </tbody>\n",
              "</table>\n",
              "<p>31527 rows × 10 columns</p>\n",
              "</div>"
            ],
            "text/plain": [
              "       Unnamed: 0  year     month  ...  pressure  rain  wind_speed\n",
              "0               0   0.0  0.181818  ...  0.997189   0.0         4.4\n",
              "1               1   0.0  0.181818  ...  0.997189   0.0         5.6\n",
              "2               2   0.0  0.181818  ...  0.997234   0.0         5.6\n",
              "3               3   0.0  0.181818  ...  0.997383   0.0         3.1\n",
              "4               4   0.0  0.181818  ...  0.997488   0.0         2.0\n",
              "...           ...   ...       ...  ...       ...   ...         ...\n",
              "31522       35022   1.0  0.090909  ...  0.996621   0.0         0.8\n",
              "31523       35032   1.0  0.090909  ...  0.995813   0.0         2.9\n",
              "31524       35035   1.0  0.090909  ...  0.995828   0.0         1.0\n",
              "31525       35042   1.0  0.090909  ...  0.996112   0.0         0.9\n",
              "31526       35054   1.0  0.090909  ...  0.995709   0.0         3.6\n",
              "\n",
              "[31527 rows x 10 columns]"
            ]
          },
          "metadata": {},
          "execution_count": 46
        }
      ]
    },
    {
      "cell_type": "markdown",
      "metadata": {
        "id": "NA3y-yaqsWsc"
      },
      "source": [
        "##Detecting the outliers\n",
        "Outliers are identified by creating a boxplot for each column and observing the range and number of dots or \"too far away\" points, which are values that deviate more or less than the expected range.\n",
        "We found multivarient outliers in **wind_speed** and **rain** column."
      ]
    },
    {
      "cell_type": "code",
      "metadata": {
        "colab": {
          "base_uri": "https://localhost:8080/",
          "height": 1000
        },
        "id": "0W1OY6Bf_HHS",
        "outputId": "d05564e3-3d51-4846-8eca-fe54b7b557ab"
      },
      "source": [
        "#boxplot method for detecting outliers\n",
        "for column in df1:\n",
        "    plt.figure()\n",
        "    df1.boxplot([column])"
      ],
      "execution_count": null,
      "outputs": [
        {
          "output_type": "display_data",
          "data": {
            "image/png": "[encoded data removed]",
            "text/plain": [
              "<Figure size 432x288 with 1 Axes>"
            ]
          },
          "metadata": {
            "needs_background": "light"
          }
        },
        {
          "output_type": "display_data",
          "data": {
            "image/png": "[encoded data removed]",
            "text/plain": [
              "<Figure size 432x288 with 1 Axes>"
            ]
          },
          "metadata": {
            "needs_background": "light"
          }
        },
        {
          "output_type": "display_data",
          "data": {
            "image/png": "[encoded data removed]",
            "text/plain": [
              "<Figure size 432x288 with 1 Axes>"
            ]
          },
          "metadata": {
            "needs_background": "light"
          }
        },
        {
          "output_type": "display_data",
          "data": {
            "image/png": "[encoded data removed]",
            "text/plain": [
              "<Figure size 432x288 with 1 Axes>"
            ]
          },
          "metadata": {
            "needs_background": "light"
          }
        },
        {
          "output_type": "display_data",
          "data": {
            "image/png": "[encoded data removed]",
            "text/plain": [
              "<Figure size 432x288 with 1 Axes>"
            ]
          },
          "metadata": {
            "needs_background": "light"
          }
        },
        {
          "output_type": "display_data",
          "data": {
            "image/png": "[encoded data removed]",
            "text/plain": [
              "<Figure size 432x288 with 1 Axes>"
            ]
          },
          "metadata": {
            "needs_background": "light"
          }
        },
        {
          "output_type": "display_data",
          "data": {
            "image/png": "[encoded data removed]",
            "text/plain": [
              "<Figure size 432x288 with 1 Axes>"
            ]
          },
          "metadata": {
            "needs_background": "light"
          }
        },
        {
          "output_type": "display_data",
          "data": {
            "image/png": "[encoded data removed]",
            "text/plain": [
              "<Figure size 432x288 with 1 Axes>"
            ]
          },
          "metadata": {
            "needs_background": "light"
          }
        },
        {
          "output_type": "display_data",
          "data": {
            "image/png": "[encoded data removed]",
            "text/plain": [
              "<Figure size 432x288 with 1 Axes>"
            ]
          },
          "metadata": {
            "needs_background": "light"
          }
        },
        {
          "output_type": "display_data",
          "data": {
            "image/png": "[encoded data removed]",
            "text/plain": [
              "<Figure size 432x288 with 1 Axes>"
            ]
          },
          "metadata": {
            "needs_background": "light"
          }
        }
      ]
    },
    {
      "cell_type": "markdown",
      "metadata": {
        "id": "Edgkp5P_xrED"
      },
      "source": [
        "##Replacting Outlier by median method\n",
        "First, we print the outlier's location by specifying the required condition. After that, we set the detected oulier to null and fill it using the **median** approach."
      ]
    },
    {
      "cell_type": "code",
      "metadata": {
        "colab": {
          "base_uri": "https://localhost:8080/",
          "height": 318
        },
        "id": "Z6jlLee8J5la",
        "outputId": "f4e97b4c-08c2-4858-82fb-52abb02fe859"
      },
      "source": [
        "#REPLACING OUTLIER IN wind_speed COLUMN BY MEDIAN METHOD\n",
        "\n",
        "# Position of the Outlier\n",
        "print(np.where(df1['wind_speed']>-60))\n",
        "#replacing lower outlier\n",
        "median = df1.loc[df1['wind_speed']>-60, 'wind_speed'].median()\n",
        "df1.loc[df1.wind_speed<-60, 'wind_speed'] = np.nan\n",
        "df1.fillna(median,inplace=True)\n",
        "#replacing upper outlier\n",
        "print(np.where(df1['wind_speed']>4))\n",
        "median1 = df1.loc[df1['wind_speed']>4, 'wind_speed'].median()\n",
        "df1.loc[df1.wind_speed>4, 'wind_speed'] = np.nan\n",
        "df1.fillna(median1,inplace=True)\n",
        "df1.boxplot(['wind_speed'])\n"
      ],
      "execution_count": null,
      "outputs": [
        {
          "output_type": "stream",
          "name": "stdout",
          "text": [
            "(array([    0,     1,     2, ..., 31524, 31525, 31526]),)\n",
            "(array([    0,     1,     2, ..., 31468, 31499, 31500]),)\n"
          ]
        },
        {
          "output_type": "execute_result",
          "data": {
            "text/plain": [
              "<matplotlib.axes._subplots.AxesSubplot at 0x7f340d345c50>"
            ]
          },
          "metadata": {},
          "execution_count": 48
        },
        {
          "output_type": "display_data",
          "data": {
            "image/png": "[encoded data removed]",
            "text/plain": [
              "<Figure size 432x288 with 1 Axes>"
            ]
          },
          "metadata": {
            "needs_background": "light"
          }
        }
      ]
    },
    {
      "cell_type": "code",
      "metadata": {
        "colab": {
          "base_uri": "https://localhost:8080/",
          "height": 300
        },
        "id": "DbgiFUFVUwe4",
        "outputId": "45e8228a-1087-47a4-9375-4fc82721344f"
      },
      "source": [
        "#REPLACING OUTLIER IN rain COLUMN BY MEDIAN METHOD\n",
        "# Position of the Outlier\n",
        "print(np.where(df1['rain']>0))\n",
        "median2 = df1.loc[df1['rain']>0, 'rain'].median()\n",
        "df1.loc[df1.rain>0, 'rain'] = np.nan\n",
        "df1.fillna(median2,inplace=True)\n",
        "df1.boxplot(['rain'])"
      ],
      "execution_count": null,
      "outputs": [
        {
          "output_type": "stream",
          "name": "stdout",
          "text": [
            "(array([  267,   268,   269, ..., 30880, 31284, 31504]),)\n"
          ]
        },
        {
          "output_type": "execute_result",
          "data": {
            "text/plain": [
              "<matplotlib.axes._subplots.AxesSubplot at 0x7f340d345110>"
            ]
          },
          "metadata": {},
          "execution_count": 49
        },
        {
          "output_type": "display_data",
          "data": {
            "image/png": "[encoded data removed]",
            "text/plain": [
              "<Figure size 432x288 with 1 Axes>"
            ]
          },
          "metadata": {
            "needs_background": "light"
          }
        }
      ]
    },
    {
      "cell_type": "markdown",
      "metadata": {
        "id": "TD1Jmr-QzQe4"
      },
      "source": [
        "##Finding Correlation\n",
        "The relationship between each column and all other columns is found using the **corr()** function of the **pandas** library."
      ]
    },
    {
      "cell_type": "code",
      "metadata": {
        "colab": {
          "base_uri": "https://localhost:8080/",
          "height": 324
        },
        "id": "ozhuJvT5NjEL",
        "outputId": "cf38ac69-e810-489e-ae0b-c386fb1e1161"
      },
      "source": [
        "#correlation\n",
        "df[['year','month','day','hour','PM2.5','temperature','pressure','rain','wind_speed']].corr()"
      ],
      "execution_count": null,
      "outputs": [
        {
          "output_type": "execute_result",
          "data": {
            "text/html": [
              "<div>\n",
              "<style scoped>\n",
              "    .dataframe tbody tr th:only-of-type {\n",
              "        vertical-align: middle;\n",
              "    }\n",
              "\n",
              "    .dataframe tbody tr th {\n",
              "        vertical-align: top;\n",
              "    }\n",
              "\n",
              "    .dataframe thead th {\n",
              "        text-align: right;\n",
              "    }\n",
              "</style>\n",
              "<table border=\"1\" class=\"dataframe\">\n",
              "  <thead>\n",
              "    <tr style=\"text-align: right;\">\n",
              "      <th></th>\n",
              "      <th>year</th>\n",
              "      <th>month</th>\n",
              "      <th>day</th>\n",
              "      <th>hour</th>\n",
              "      <th>PM2.5</th>\n",
              "      <th>temperature</th>\n",
              "      <th>pressure</th>\n",
              "      <th>rain</th>\n",
              "      <th>wind_speed</th>\n",
              "    </tr>\n",
              "  </thead>\n",
              "  <tbody>\n",
              "    <tr>\n",
              "      <th>year</th>\n",
              "      <td>1.000000</td>\n",
              "      <td>-0.197649</td>\n",
              "      <td>-0.008614</td>\n",
              "      <td>-0.007270</td>\n",
              "      <td>-0.007743</td>\n",
              "      <td>-0.056375</td>\n",
              "      <td>0.033705</td>\n",
              "      <td>0.005065</td>\n",
              "      <td>0.128230</td>\n",
              "    </tr>\n",
              "    <tr>\n",
              "      <th>month</th>\n",
              "      <td>-0.197649</td>\n",
              "      <td>1.000000</td>\n",
              "      <td>0.007351</td>\n",
              "      <td>0.009089</td>\n",
              "      <td>-0.004171</td>\n",
              "      <td>0.150874</td>\n",
              "      <td>0.005224</td>\n",
              "      <td>0.014098</td>\n",
              "      <td>-0.145390</td>\n",
              "    </tr>\n",
              "    <tr>\n",
              "      <th>day</th>\n",
              "      <td>-0.008614</td>\n",
              "      <td>0.007351</td>\n",
              "      <td>1.000000</td>\n",
              "      <td>0.000683</td>\n",
              "      <td>-0.001939</td>\n",
              "      <td>0.014932</td>\n",
              "      <td>0.000241</td>\n",
              "      <td>0.000179</td>\n",
              "      <td>-0.009257</td>\n",
              "    </tr>\n",
              "    <tr>\n",
              "      <th>hour</th>\n",
              "      <td>-0.007270</td>\n",
              "      <td>0.009089</td>\n",
              "      <td>0.000683</td>\n",
              "      <td>1.000000</td>\n",
              "      <td>0.001019</td>\n",
              "      <td>0.036284</td>\n",
              "      <td>-0.005175</td>\n",
              "      <td>0.002571</td>\n",
              "      <td>0.020298</td>\n",
              "    </tr>\n",
              "    <tr>\n",
              "      <th>PM2.5</th>\n",
              "      <td>-0.007743</td>\n",
              "      <td>-0.004171</td>\n",
              "      <td>-0.001939</td>\n",
              "      <td>0.001019</td>\n",
              "      <td>1.000000</td>\n",
              "      <td>-0.004341</td>\n",
              "      <td>-0.000333</td>\n",
              "      <td>0.007283</td>\n",
              "      <td>0.000797</td>\n",
              "    </tr>\n",
              "    <tr>\n",
              "      <th>temperature</th>\n",
              "      <td>-0.056375</td>\n",
              "      <td>0.150874</td>\n",
              "      <td>0.014932</td>\n",
              "      <td>0.036284</td>\n",
              "      <td>-0.004341</td>\n",
              "      <td>1.000000</td>\n",
              "      <td>-0.209460</td>\n",
              "      <td>0.033580</td>\n",
              "      <td>0.038332</td>\n",
              "    </tr>\n",
              "    <tr>\n",
              "      <th>pressure</th>\n",
              "      <td>0.033705</td>\n",
              "      <td>0.005224</td>\n",
              "      <td>0.000241</td>\n",
              "      <td>-0.005175</td>\n",
              "      <td>-0.000333</td>\n",
              "      <td>-0.209460</td>\n",
              "      <td>1.000000</td>\n",
              "      <td>-0.015272</td>\n",
              "      <td>0.013079</td>\n",
              "    </tr>\n",
              "    <tr>\n",
              "      <th>rain</th>\n",
              "      <td>0.005065</td>\n",
              "      <td>0.014098</td>\n",
              "      <td>0.000179</td>\n",
              "      <td>0.002571</td>\n",
              "      <td>0.007283</td>\n",
              "      <td>0.033580</td>\n",
              "      <td>-0.015272</td>\n",
              "      <td>1.000000</td>\n",
              "      <td>0.021374</td>\n",
              "    </tr>\n",
              "    <tr>\n",
              "      <th>wind_speed</th>\n",
              "      <td>0.128230</td>\n",
              "      <td>-0.145390</td>\n",
              "      <td>-0.009257</td>\n",
              "      <td>0.020298</td>\n",
              "      <td>0.000797</td>\n",
              "      <td>0.038332</td>\n",
              "      <td>0.013079</td>\n",
              "      <td>0.021374</td>\n",
              "      <td>1.000000</td>\n",
              "    </tr>\n",
              "  </tbody>\n",
              "</table>\n",
              "</div>"
            ],
            "text/plain": [
              "                 year     month       day  ...  pressure      rain  wind_speed\n",
              "year         1.000000 -0.197649 -0.008614  ...  0.033705  0.005065    0.128230\n",
              "month       -0.197649  1.000000  0.007351  ...  0.005224  0.014098   -0.145390\n",
              "day         -0.008614  0.007351  1.000000  ...  0.000241  0.000179   -0.009257\n",
              "hour        -0.007270  0.009089  0.000683  ... -0.005175  0.002571    0.020298\n",
              "PM2.5       -0.007743 -0.004171 -0.001939  ... -0.000333  0.007283    0.000797\n",
              "temperature -0.056375  0.150874  0.014932  ... -0.209460  0.033580    0.038332\n",
              "pressure     0.033705  0.005224  0.000241  ...  1.000000 -0.015272    0.013079\n",
              "rain         0.005065  0.014098  0.000179  ... -0.015272  1.000000    0.021374\n",
              "wind_speed   0.128230 -0.145390 -0.009257  ...  0.013079  0.021374    1.000000\n",
              "\n",
              "[9 rows x 9 columns]"
            ]
          },
          "metadata": {},
          "execution_count": 50
        }
      ]
    },
    {
      "cell_type": "markdown",
      "metadata": {
        "id": "Xjej7gey0-Hx"
      },
      "source": [
        "##Plotting graph of the relationship between each column with other columns\n",
        "This can be accomplished by importing **pairplot** from the **seaborn** library, which pairs the relationships between each column and the other columns."
      ]
    },
    {
      "cell_type": "code",
      "metadata": {
        "colab": {
          "base_uri": "https://localhost:8080/",
          "height": 1000
        },
        "id": "ygHxP8ORDs45",
        "outputId": "b99daaa3-4c50-428f-addb-495367bcb6f2"
      },
      "source": [
        "#Analysing relation between each columns with every other\n",
        "sns.pairplot(data=df1.corr())"
      ],
      "execution_count": null,
      "outputs": [
        {
          "output_type": "execute_result",
          "data": {
            "text/plain": [
              "<seaborn.axisgrid.PairGrid at 0x7f340d27c3d0>"
            ]
          },
          "metadata": {},
          "execution_count": 51
        },
        {
          "output_type": "display_data",
          "data": {
            "image/png": "[encoded data removed]",
            "text/plain": [
              "<Figure size 1800x1800 with 110 Axes>"
            ]
          },
          "metadata": {
            "needs_background": "light"
          }
        }
      ]
    },
    {
      "cell_type": "markdown",
      "metadata": {
        "id": "KDOl5jxZ2DE2"
      },
      "source": [
        "##Finding correlation of **PM2.5** with rest of the columns\n"
      ]
    },
    {
      "cell_type": "code",
      "metadata": {
        "colab": {
          "base_uri": "https://localhost:8080/"
        },
        "id": "c8-LrbdRVMSX",
        "outputId": "fcc5b574-27b8-4890-b6e7-7d8e7ea10f55"
      },
      "source": [
        "#correlation of PM2.5 with rest of the columns\n",
        "df[['year','month','day','hour','PM2.5','temperature','pressure','rain','wind_speed']].corr()['PM2.5']"
      ],
      "execution_count": null,
      "outputs": [
        {
          "output_type": "execute_result",
          "data": {
            "text/plain": [
              "year          -0.007743\n",
              "month         -0.004171\n",
              "day           -0.001939\n",
              "hour           0.001019\n",
              "PM2.5          1.000000\n",
              "temperature   -0.004341\n",
              "pressure      -0.000333\n",
              "rain           0.007283\n",
              "wind_speed     0.000797\n",
              "Name: PM2.5, dtype: float64"
            ]
          },
          "metadata": {},
          "execution_count": 52
        }
      ]
    },
    {
      "cell_type": "markdown",
      "metadata": {
        "id": "zfTKP44b2c_9"
      },
      "source": [
        "#Heatmap Visualization\n",
        "Correlation of columns is visualized though heatmap method importing from seaborn library. A good correlation is considered between -0.6 to 0.6 while 1 for the best correlation."
      ]
    },
    {
      "cell_type": "code",
      "metadata": {
        "colab": {
          "base_uri": "https://localhost:8080/",
          "height": 613
        },
        "id": "sSgoATM0NVAD",
        "outputId": "71c834d9-67ee-4e73-fe54-bb88b7c1294f"
      },
      "source": [
        "#heatmap\n",
        "fig, ax = plt.subplots(figsize=(23,10))\n",
        "sns.heatmap(df[['year','month','day','hour','PM2.5','temperature','pressure','rain','wind_speed']].corr(), center=0, cmap='Blues', annot=True)"
      ],
      "execution_count": null,
      "outputs": [
        {
          "output_type": "execute_result",
          "data": {
            "text/plain": [
              "<matplotlib.axes._subplots.AxesSubplot at 0x7f340c1739d0>"
            ]
          },
          "metadata": {},
          "execution_count": 53
        },
        {
          "output_type": "display_data",
          "data": {
            "image/png": "[encoded data removed]",
            "text/plain": [
              "<Figure size 1656x720 with 2 Axes>"
            ]
          },
          "metadata": {
            "needs_background": "light"
          }
        }
      ]
    },
    {
      "cell_type": "code",
      "metadata": {
        "colab": {
          "base_uri": "https://localhost:8080/"
        },
        "id": "GY6vA_4Yrv4w",
        "outputId": "e24418fa-9029-4272-de54-326c7824a9aa"
      },
      "source": [
        " #printing strong correlation pairs\n",
        "cp=df1.corr().unstack()\n",
        "cp.sort_values(kind=\"quicksort\")\n",
        "sp=cp[abs(cp)>0.5]\n",
        "print(sp)    "
      ],
      "execution_count": null,
      "outputs": [
        {
          "output_type": "stream",
          "name": "stdout",
          "text": [
            "Unnamed: 0   Unnamed: 0     1.000000\n",
            "             year           0.968115\n",
            "year         Unnamed: 0     0.968115\n",
            "             year           1.000000\n",
            "month        month          1.000000\n",
            "day          day            1.000000\n",
            "hour         hour           1.000000\n",
            "PM2.5        PM2.5          1.000000\n",
            "temperature  temperature    1.000000\n",
            "pressure     pressure       1.000000\n",
            "rain         rain           1.000000\n",
            "wind_speed   wind_speed     1.000000\n",
            "dtype: float64\n"
          ]
        }
      ]
    },
    {
      "cell_type": "markdown",
      "metadata": {
        "id": "zkPU3GQk4IFh"
      },
      "source": [
        "##Plotting the dataframe\n",
        "Graph plot for the dataframe using **Pandas** library."
      ]
    },
    {
      "cell_type": "code",
      "metadata": {
        "colab": {
          "base_uri": "https://localhost:8080/",
          "height": 264
        },
        "id": "P4a05gCFGqzZ",
        "outputId": "c284a35a-935f-41f2-caf7-67b9979403c1"
      },
      "source": [
        "#plotting the dataset using line plot\n",
        "df1.plot(kind ='line')\n",
        "plt.show()"
      ],
      "execution_count": null,
      "outputs": [
        {
          "output_type": "display_data",
          "data": {
            "image/png": "[encoded data removed]",
            "text/plain": [
              "<Figure size 432x288 with 1 Axes>"
            ]
          },
          "metadata": {
            "needs_background": "light"
          }
        }
      ]
    },
    {
      "cell_type": "code",
      "metadata": {
        "colab": {
          "base_uri": "https://localhost:8080/",
          "height": 268
        },
        "id": "8FdFqCydm8JT",
        "outputId": "28733d9c-43d9-4462-95ea-68388a5630da"
      },
      "source": [
        "df[['month','PM2.5','temperature','pressure','rain','wind_speed']].plot()\n",
        "plt.show()"
      ],
      "execution_count": null,
      "outputs": [
        {
          "output_type": "display_data",
          "data": {
            "image/png": "[encoded data removed]",
            "text/plain": [
              "<Figure size 432x288 with 1 Axes>"
            ]
          },
          "metadata": {
            "needs_background": "light"
          }
        }
      ]
    },
    {
      "cell_type": "markdown",
      "metadata": {
        "id": "MQg-6amq4205"
      },
      "source": [
        "##Boxplot for every column after fixing outliers\n",
        "The dividing green line in the box (or median) in the **'year'** column is at the top of the box, indicating that it is below skewed, which implies the median is larger than the mean, whereas the mean is more than the median in the **'month'** and **'wind speed'** columns  as they are above skewed.\n",
        "Every graph that we retained has a univariate outlier (single dot) that will assist us acquire decent accuracy..\n"
      ]
    },
    {
      "cell_type": "code",
      "metadata": {
        "colab": {
          "base_uri": "https://localhost:8080/",
          "height": 1000
        },
        "id": "b5avyicoc69V",
        "outputId": "40a6fc0d-57c7-4aea-bebb-81ca8cb660dd"
      },
      "source": [
        "#boxplot for each column\n",
        "for column in df1:\n",
        "    plt.figure()\n",
        "    df1.boxplot([column])"
      ],
      "execution_count": null,
      "outputs": [
        {
          "output_type": "display_data",
          "data": {
            "image/png": "[encoded data removed]",
            "text/plain": [
              "<Figure size 432x288 with 1 Axes>"
            ]
          },
          "metadata": {
            "needs_background": "light"
          }
        },
        {
          "output_type": "display_data",
          "data": {
            "image/png": "[encoded data removed]",
            "text/plain": [
              "<Figure size 432x288 with 1 Axes>"
            ]
          },
          "metadata": {
            "needs_background": "light"
          }
        },
        {
          "output_type": "display_data",
          "data": {
            "image/png": "[encoded data removed]",
            "text/plain": [
              "<Figure size 432x288 with 1 Axes>"
            ]
          },
          "metadata": {
            "needs_background": "light"
          }
        },
        {
          "output_type": "display_data",
          "data": {
            "image/png": "[encoded data removed]",
            "text/plain": [
              "<Figure size 432x288 with 1 Axes>"
            ]
          },
          "metadata": {
            "needs_background": "light"
          }
        },
        {
          "output_type": "display_data",
          "data": {
            "image/png": "[encoded data removed]",
            "text/plain": [
              "<Figure size 432x288 with 1 Axes>"
            ]
          },
          "metadata": {
            "needs_background": "light"
          }
        },
        {
          "output_type": "display_data",
          "data": {
            "image/png": "[encoded data removed]",
            "text/plain": [
              "<Figure size 432x288 with 1 Axes>"
            ]
          },
          "metadata": {
            "needs_background": "light"
          }
        },
        {
          "output_type": "display_data",
          "data": {
            "image/png": "[encoded data removed]",
            "text/plain": [
              "<Figure size 432x288 with 1 Axes>"
            ]
          },
          "metadata": {
            "needs_background": "light"
          }
        },
        {
          "output_type": "display_data",
          "data": {
            "image/png": "[encoded data removed]",
            "text/plain": [
              "<Figure size 432x288 with 1 Axes>"
            ]
          },
          "metadata": {
            "needs_background": "light"
          }
        },
        {
          "output_type": "display_data",
          "data": {
            "image/png": "[encoded data removed]",
            "text/plain": [
              "<Figure size 432x288 with 1 Axes>"
            ]
          },
          "metadata": {
            "needs_background": "light"
          }
        },
        {
          "output_type": "display_data",
          "data": {
            "image/png": "[encoded data removed]",
            "text/plain": [
              "<Figure size 432x288 with 1 Axes>"
            ]
          },
          "metadata": {
            "needs_background": "light"
          }
        }
      ]
    },
    {
      "cell_type": "markdown",
      "metadata": {
        "id": "JlIb3KPM-JeX"
      },
      "source": [
        "#Graph of PM2.5 with every column\n",
        "A pairplot with PM2.5 as the x-axis in each column is created to see how different columns affect PM2.5.\n",
        "According to the graph, PM2.5 is **constant** across all columns."
      ]
    },
    {
      "cell_type": "code",
      "metadata": {
        "id": "jk7-xGFWetlb",
        "colab": {
          "base_uri": "https://localhost:8080/",
          "height": 1000
        },
        "outputId": "210370f3-17a1-40cb-edde-0107496fdee9"
      },
      "source": [
        "#PM2.5 getting affected by other columns\n",
        "sns.pairplot(data=df1.corr(),x_vars=['PM2.5'],y_vars=['year','month','day','hour','temperature','pressure','rain','wind_speed'])"
      ],
      "execution_count": null,
      "outputs": [
        {
          "output_type": "execute_result",
          "data": {
            "text/plain": [
              "<seaborn.axisgrid.PairGrid at 0x7f340a8a3850>"
            ]
          },
          "metadata": {},
          "execution_count": 58
        },
        {
          "output_type": "display_data",
          "data": {
            "image/png": "[encoded data removed]",
            "text/plain": [
              "<Figure size 180x1440 with 8 Axes>"
            ]
          },
          "metadata": {
            "needs_background": "light"
          }
        }
      ]
    },
    {
      "cell_type": "code",
      "metadata": {
        "id": "5w5Gw3fn9qvS"
      },
      "source": [
        ""
      ],
      "execution_count": null,
      "outputs": []
    }
  ]
}